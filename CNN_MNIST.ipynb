{
    "cells": [
        {
            "metadata": {},
            "id": "223a24a4-a370-4b00-8470-36c037308173",
            "cell_type": "code",
            "source": "# Conv.py takes input number of filters and its function forward takes the image array as input and \n# overall returns 3d array with filters applied,\n# input : 8   28*28 array\n# Output: 26*26*8 array\nimport os\nos.system('pip install mnist')\nimport numpy as np\nclass conv3x3:\n    def __init__(self,num_filters):\n        self.num_filters=num_filters\n        self.filters=np.random.rand(num_filters,3,3)\n\n    def iterate_regions(self,image):\n        d1,d2=image.shape\n        for i in range(d1-2):\n            for j in range(d2-2):\n                region=image[i:(i+3),j:(j+3)]\n                yield region,i,j\n\n    def forward(self,input):\n        d1,d2=input.shape\n        self.last_input=input\n        output=np.zeros((d1-2,d2-2,self.num_filters))\n        for region,i,j in self.iterate_regions(input):\n            output[i,j]=np.sum(region*self.filters,axis=(1,2))\n        return output\n    \n    def backprop(self, d_L_d_out, learn_rate):\n\n        d_L_d_filters = np.zeros(self.filters.shape)\n\n        for im_region, i, j in self.iterate_regions(self.last_input):\n            for f in range(self.num_filters):\n                d_L_d_filters[f] += d_L_d_out[i, j, f] * im_region\n\n        # Update filters\n        self.filters -= learn_rate * d_L_d_filters\n\n        return None",
            "execution_count": 2,
            "outputs": []
        },
        {
            "metadata": {},
            "id": "39666f49-0d48-426b-bd09-84b901dd2c57",
            "cell_type": "code",
            "source": "#Maxpool's function forward takes 26*26*8 input and do maxpool and return 13*13*8 array.\nimport numpy as np\nclass max_pool:\n    def iterate_regions(self,image):\n        d1,d2,d3=image.shape\n        for i in range(d1//2):\n            for j in range(d2//2):\n                region=image[2*i:2*(i+1),2*j:2*(j+1)]\n                yield region,i,j\n    def forward(self,input):\n        d1,d2,d3=input.shape\n        self.last_input = input\n        output=np.zeros((d1//2,d2//2,d3))\n        for region,i,j in self.iterate_regions(input):\n            output[i,j]=np.max(region,axis=(0,1))\n        return output\n    def backprop(self, d_L_d_out):\n        d_L_d_input = np.zeros(self.last_input.shape)\n\n        for im_region, i, j in self.iterate_regions(self.last_input):\n            h, w, f = im_region.shape\n            amax = np.amax(im_region, axis=(0, 1))\n\n        for i2 in range(h):\n            for j2 in range(w):\n                for f2 in range(f):\n                    # If this pixel was the max value, copy the gradient to it.\n                    if im_region[i2, j2, f2] == amax[f2]:\n                        d_L_d_input[i * 2 + i2, j * 2 + j2, f2] = d_L_d_out[i, j, f2]\n\n        return d_L_d_input",
            "execution_count": 3,
            "outputs": []
        },
        {
            "metadata": {},
            "id": "73deafc8-fb3c-4bbb-af94-f0ed3ab481fc",
            "cell_type": "code",
            "source": "# This class soft_max takes input of (number of elements in new maxpooled img \"13*13*8=1352\") \n# and (number of nodes 10) and forward function takes input of the img array\n# and returns a array 10 with probablities for each one.\nimport numpy as np\nclass soft_max:\n    def __init__(self,input_len,num_nodes):\n        self.weights=np.random.randn(input_len,num_nodes)/input_len\n        self.biases=np.zeros(num_nodes)\n    def forward(self,input):\n        self.last_input_shape = input.shape\n        input=input.flatten()\n        self.last_input = input\n        #calculaing wX+b\n        totals=np.dot(input,self.weights)+self.biases\n        self.last_totals=totals\n        #final output\n        expx=np.exp(totals)\n        output=expx/np.sum(expx,axis=0)\n        return output\n    def backprop(self,d_L_d_out,learn_rate):\n        for i, gradient in enumerate(d_L_d_out):\n            if gradient == 0:\n                continue\n\n            # e^totals\n            t_exp = np.exp(self.last_totals)\n\n            # Sum of all e^totals\n            S = np.sum(t_exp)\n\n            # Gradients of out[i] against totals\n            d_out_d_t = -t_exp[i] * t_exp / (S ** 2)\n            d_out_d_t[i] = t_exp[i] * (S - t_exp[i]) / (S ** 2)\n\n            # Gradients of totals against weights/biases/input\n            d_t_d_w = self.last_input\n            d_t_d_b = 1\n            d_t_d_inputs = self.weights\n\n            # Gradients of loss against totals\n            d_L_d_t = gradient * d_out_d_t\n\n            # Gradients of loss against weights/biases/input\n            d_L_d_w = d_t_d_w[np.newaxis].T @ d_L_d_t[np.newaxis]\n            d_L_d_b = d_L_d_t * d_t_d_b\n            d_L_d_inputs = d_t_d_inputs @ d_L_d_t\n\n            # Update weights / biases\n            self.weights -= learn_rate * d_L_d_w\n            self.biases -= learn_rate * d_L_d_b\n            return d_L_d_inputs.reshape(self.last_input_shape)\n",
            "execution_count": 4,
            "outputs": []
        },
        {
            "metadata": {},
            "id": "327e01e7-3090-4db7-8f72-5487ec437665",
            "cell_type": "code",
            "source": "import mnist\nimport numpy as np\n\nconv=conv3x3(8)\npool=max_pool()\nSoftmax=soft_max(13*13*8,10)\n\ntrain_images=mnist.train_images()[:10000]\ntrain_labels=mnist.train_labels()[:10000]\ntest_images = mnist.test_images()[:1000]\ntest_labels = mnist.test_labels()[:1000]\n\ndef forward(image,label):\n    output=conv.forward((image/255)-0.5)\n    output=pool.forward(output)\n    output=Softmax.forward(output)\n\n    loss=-np.log(output[label])\n    accuracy=1 if np.argmax(output)==label else 0\n\n    return output, loss, accuracy\n\ndef train(im, label, lr=.005):\n        # Forward\n    out, loss, acc = forward(im, label)\n\n    # Calculate initial gradient\n    gradient = np.zeros(10)\n    gradient[label] = -1 / out[label]\n\n    # Backprop\n    gradient = soft_max.backprop(Softmax,gradient, lr)\n    gradient = pool.backprop(gradient)\n    gradient = conv.backprop(gradient, lr)\n\n    return loss, acc\n\n\nprint('CNN initialised')\n\n# Train the CNN for 3 epochs\nfor epoch in range(3):\n    print('--- Epoch %d ---' % (epoch + 1))\n\n    # Shuffle the training data\n    permutation = np.random.permutation(len(train_images))\n    train_images = train_images[permutation]\n    train_labels = train_labels[permutation]\n\n# Train!\n    loss = 0\n    num_correct = 0\n    for i, (im, label) in enumerate(zip(train_images, train_labels)):\n        if i > 0 and i % 100 == 99:\n            print(\n                '[Step %d] Past 100 steps: Average Loss %.3f | Accuracy: %d%%' %\n                (i + 1, loss / 100, num_correct)\n            )\n            loss = 0\n            num_correct = 0\n\n        l, acc = train(im, label)\n        loss += l\n        num_correct += acc\n\n# Test the CNN\nprint('\\n--- Testing the CNN ---')\nloss = 0\nnum_correct = 0\nfor im, label in zip(test_images, test_labels):\n    _, l, acc = forward(im, label)\n    loss += l\n    num_correct += acc\n\nnum_tests = len(test_images)\nprint('Test Loss:', loss / num_tests)\nprint('Test Accuracy:', num_correct / num_tests)",
            "execution_count": null,
            "outputs": []
        },
        {
            "metadata": {},
            "id": "efca0323-128d-4043-a28f-0c4a2a13dbe7",
            "cell_type": "code",
            "source": "",
            "execution_count": null,
            "outputs": []
        },
        {
            "metadata": {},
            "id": "311afbd3-8c02-4a68-95b6-44ffa4f21d84",
            "cell_type": "code",
            "source": "",
            "execution_count": null,
            "outputs": []
        }
    ],
    "metadata": {
        "kernelspec": {
            "name": "python3",
            "display_name": "Python 3.8",
            "language": "python"
        },
        "language_info": {
            "name": "python",
            "version": "3.8.10",
            "mimetype": "text/x-python",
            "codemirror_mode": {
                "name": "ipython",
                "version": 3
            },
            "pygments_lexer": "ipython3",
            "nbconvert_exporter": "python",
            "file_extension": ".py"
        }
    },
    "nbformat": 4,
    "nbformat_minor": 5
}